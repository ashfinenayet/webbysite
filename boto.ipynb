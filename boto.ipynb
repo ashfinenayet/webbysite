{
 "cells": [
  {
   "cell_type": "code",
   "execution_count": 2,
   "metadata": {},
   "outputs": [],
   "source": [
    "import boto3\n"
   ]
  },
  {
   "cell_type": "code",
   "execution_count": null,
   "metadata": {},
   "outputs": [],
   "source": [
    "\n",
    "bucket_name = 'fuji-images'\n",
    "region = 'us-east-2'  # e.g., 'us-east-1'\n",
    "\n",
    "s3 = boto3.client('s3')\n",
    "\n",
    "# List all files in the bucket\n",
    "objects = s3.list_objects_v2(Bucket=bucket_name)\n",
    "urls = []\n",
    "# Generate public URLs (assuming your bucket is public or files are public)\n",
    "if 'Contents' in objects:\n",
    "    for obj in objects['Contents']:\n",
    "        key = obj['Key']\n",
    "        url = f\"https://{bucket_name}.s3.{region}.amazonaws.com/{key}\"\n",
    "        urls.append(url)\n",
    "else:\n",
    "    print(\"No files found.\")\n"
   ]
  },
  {
   "cell_type": "code",
   "execution_count": 5,
   "metadata": {},
   "outputs": [
    {
     "data": {
      "text/plain": [
       "'https://fuji-images.s3.us-east-2.amazonaws.com/images/_DSF0938.jpg'"
      ]
     },
     "execution_count": null,
     "metadata": {},
     "output_type": "execute_result"
    }
   ],
   "source": [
    "urls"
   ]
  }
 ],
 "metadata": {
  "language_info": {
   "name": "python"
  }
 },
 "nbformat": 4,
 "nbformat_minor": 2
}
