{
 "cells": [
  {
   "cell_type": "code",
   "execution_count": 1,
   "metadata": {},
   "outputs": [
    {
     "name": "stdout",
     "output_type": "stream",
     "text": [
      "── \u001b[1mAttaching core tidyverse packages\u001b[22m ─────────────────────────────────────────────────────────────── tidyverse 2.0.0 ──\n",
      "\u001b[32m✔\u001b[39m \u001b[34mdplyr    \u001b[39m 1.1.4     \u001b[32m✔\u001b[39m \u001b[34mreadr    \u001b[39m 2.1.5\n",
      "\u001b[32m✔\u001b[39m \u001b[34mforcats  \u001b[39m 1.0.0     \u001b[32m✔\u001b[39m \u001b[34mstringr  \u001b[39m 1.5.1\n",
      "\u001b[32m✔\u001b[39m \u001b[34mggplot2  \u001b[39m 3.5.1     \u001b[32m✔\u001b[39m \u001b[34mtibble   \u001b[39m 3.2.1\n",
      "\u001b[32m✔\u001b[39m \u001b[34mlubridate\u001b[39m 1.9.4     \u001b[32m✔\u001b[39m \u001b[34mtidyr    \u001b[39m 1.3.1\n",
      "\u001b[32m✔\u001b[39m \u001b[34mpurrr    \u001b[39m 1.0.2     \n",
      "── \u001b[1mConflicts\u001b[22m ───────────────────────────────────────────────────────────────────────────────── tidyverse_conflicts() ──\n",
      "\u001b[31m✖\u001b[39m \u001b[34mdplyr\u001b[39m::\u001b[32mfilter()\u001b[39m masks \u001b[34mstats\u001b[39m::filter()\n",
      "\u001b[31m✖\u001b[39m \u001b[34mdplyr\u001b[39m::\u001b[32mlag()\u001b[39m    masks \u001b[34mstats\u001b[39m::lag()\n",
      "\u001b[36mℹ\u001b[39m Use the \u001b]8;;http://conflicted.r-lib.org/\u0007conflicted package\u001b]8;;\u0007 to force all conflicts to become errors\n",
      "Using ExifTool version 12.22\n"
     ]
    }
   ],
   "source": [
    "library(tidyverse)\n",
    "library(ggplot2)\n",
    "library(exifr)"
   ]
  },
  {
   "cell_type": "code",
   "execution_count": null,
   "metadata": {},
   "outputs": [
    {
     "data": {
      "text/plain": [
       "\u001b[38;5;246m# A tibble: 1,894 × 608\u001b[39m\n",
       "   SourceFile             ExifToolVersion FileName Directory FileSize FileModifyDate FileAccessDate FileInodeChangeDate\n",
       "   \u001b[3m\u001b[38;5;246m<chr>\u001b[39m\u001b[23m                            \u001b[3m\u001b[38;5;246m<dbl>\u001b[39m\u001b[23m \u001b[3m\u001b[38;5;246m<chr>\u001b[39m\u001b[23m    \u001b[3m\u001b[38;5;246m<chr>\u001b[39m\u001b[23m        \u001b[3m\u001b[38;5;246m<int>\u001b[39m\u001b[23m \u001b[3m\u001b[38;5;246m<chr>\u001b[39m\u001b[23m          \u001b[3m\u001b[38;5;246m<chr>\u001b[39m\u001b[23m          \u001b[3m\u001b[38;5;246m<chr>\u001b[39m\u001b[23m              \n",
       "\u001b[38;5;250m 1\u001b[39m /Users/ashfi/Document…            12.2 _DSF000… /Users/a… 16\u001b[4m0\u001b[24m\u001b[4m5\u001b[24m\u001b[4m9\u001b[24m090 2023:11:19 23… 2025:03:05 19… 2023:12:20 08:13:4…\n",
       "\u001b[38;5;250m 2\u001b[39m /Users/ashfi/Document…            12.2 _DSF000… /Users/a… 12\u001b[4m4\u001b[24m\u001b[4m0\u001b[24m\u001b[4m1\u001b[24m275 2023:01:14 22… 2025:03:05 19… 2023:12:20 08:13:4…\n",
       "\u001b[38;5;250m 3\u001b[39m /Users/ashfi/Document…            12.2 _DSF000… /Users/a… 12\u001b[4m4\u001b[24m\u001b[4m0\u001b[24m\u001b[4m3\u001b[24m055 2023:01:14 22… 2025:03:05 19… 2023:12:20 08:13:4…\n",
       "\u001b[38;5;250m 4\u001b[39m /Users/ashfi/Document…            12.2 _DSF001… /Users/a… 15\u001b[4m9\u001b[24m\u001b[4m9\u001b[24m\u001b[4m1\u001b[24m065 2023:01:14 22… 2025:03:05 19… 2023:12:20 08:13:4…\n",
       "\u001b[38;5;250m 5\u001b[39m /Users/ashfi/Document…            12.2 _DSF001… /Users/a… 19\u001b[4m2\u001b[24m\u001b[4m6\u001b[24m\u001b[4m2\u001b[24m720 2023:11:19 23… 2025:03:05 19… 2023:12:20 08:13:4…\n",
       "\u001b[38;5;250m 6\u001b[39m /Users/ashfi/Document…            12.2 _DSF001… /Users/a… 10\u001b[4m1\u001b[24m\u001b[4m7\u001b[24m\u001b[4m1\u001b[24m566 2023:01:14 22… 2025:03:05 19… 2023:12:20 08:13:4…\n",
       "\u001b[38;5;250m 7\u001b[39m /Users/ashfi/Document…            12.2 _DSF001… /Users/a…  7\u001b[4m8\u001b[24m\u001b[4m9\u001b[24m\u001b[4m6\u001b[24m586 2023:01:14 22… 2025:03:05 19… 2023:12:20 08:13:4…\n",
       "\u001b[38;5;250m 8\u001b[39m /Users/ashfi/Document…            12.2 _DSF001… /Users/a… 19\u001b[4m3\u001b[24m\u001b[4m0\u001b[24m\u001b[4m3\u001b[24m776 2023:11:19 23… 2025:03:05 19… 2023:12:20 08:13:4…\n",
       "\u001b[38;5;250m 9\u001b[39m /Users/ashfi/Document…            12.2 _DSF002… /Users/a… 14\u001b[4m0\u001b[24m\u001b[4m4\u001b[24m\u001b[4m7\u001b[24m719 2023:01:14 22… 2025:03:05 19… 2023:12:20 08:13:4…\n",
       "\u001b[38;5;250m10\u001b[39m /Users/ashfi/Document…            12.2 _DSF002… /Users/a… 16\u001b[4m4\u001b[24m\u001b[4m5\u001b[24m\u001b[4m1\u001b[24m802 2023:01:14 22… 2025:03:05 19… 2023:12:20 08:13:4…\n",
       "\u001b[38;5;246m# ℹ 1,884 more rows\u001b[39m\n",
       "\u001b[38;5;246m# ℹ 600 more variables: FilePermissions <int>, FileType <chr>, FileTypeExtension <chr>, MIMEType <chr>,\u001b[39m\n",
       "\u001b[38;5;246m#   ExifByteOrder <chr>, Make <chr>, Model <chr>, XResolution <int>, YResolution <int>, ResolutionUnit <int>,\u001b[39m\n",
       "\u001b[38;5;246m#   Software <chr>, ModifyDate <chr>, ExposureTime <dbl>, FNumber <dbl>, ExposureProgram <int>, ISO <int>,\u001b[39m\n",
       "\u001b[38;5;246m#   SensitivityType <int>, ExifVersion <chr>, DateTimeOriginal <chr>, CreateDate <chr>, OffsetTime <chr>,\u001b[39m\n",
       "\u001b[38;5;246m#   ShutterSpeedValue <chr>, ApertureValue <dbl>, BrightnessValue <dbl>, ExposureCompensation <dbl>,\u001b[39m\n",
       "\u001b[38;5;246m#   MaxApertureValue <dbl>, MeteringMode <int>, LightSource <int>, Flash <int>, FocalLength <dbl>, ColorSpace <int>, …\u001b[39m\n",
       "\u001b[38;5;246m# ℹ Use `print(n = ...)` to see more rows, and `colnames()` to see all variable names\u001b[39m"
      ]
     },
     "execution_count": null,
     "metadata": {},
     "output_type": "execute_result"
    }
   ],
   "source": [
    "images_path <- '/Users/ashfi/Documents/FUJI Edits'\n",
    "image_files <- list.files(images_path,  full.names = TRUE)\n"
   ]
  },
  {
   "cell_type": "code",
   "execution_count": 3,
   "metadata": {},
   "outputs": [],
   "source": [
    "df <- tibble(read_exif(image_files))"
   ]
  }
 ],
 "metadata": {
  "language_info": {
   "name": "r"
  }
 },
 "nbformat": 4,
 "nbformat_minor": 2
}
